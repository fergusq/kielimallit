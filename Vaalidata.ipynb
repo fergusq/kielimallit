{
 "cells": [
  {
   "cell_type": "markdown",
   "metadata": {},
   "source": [
    "# Mallin hienosäätäminen"
   ]
  },
  {
   "cell_type": "code",
   "execution_count": 1,
   "metadata": {},
   "outputs": [],
   "source": [
    "import fastai.text as fatext\n",
    "import numpy as np\n",
    "import sentencepiece as sp\n",
    "from typing import List"
   ]
  },
  {
   "cell_type": "code",
   "execution_count": 2,
   "metadata": {},
   "outputs": [
    {
     "data": {
      "text/plain": [
       "True"
      ]
     },
     "execution_count": 2,
     "metadata": {},
     "output_type": "execute_result"
    }
   ],
   "source": [
    "spm = sp.SentencePieceProcessor()\n",
    "spm.Load(\"iso-lc.model\")"
   ]
  },
  {
   "cell_type": "code",
   "execution_count": 3,
   "metadata": {},
   "outputs": [],
   "source": [
    "class SPMTokenizer:\n",
    "\tdef __init__(self, lang: str):\n",
    "\t\tpass\n",
    "\tdef tokenizer(self, text: str) -> List[str]:\n",
    "\t\treturn spm.EncodeAsPieces(text.lower())\n",
    "\tdef add_special_cases(self, *args):\n",
    "\t\tpass\n",
    "\n",
    "tokenizer = fatext.transform.Tokenizer(SPMTokenizer)"
   ]
  },
  {
   "cell_type": "code",
   "execution_count": 4,
   "metadata": {},
   "outputs": [],
   "source": [
    "def loadVocab(filename: str):\n",
    "\twith open(filename, \"r\") as f:\n",
    "\t\ttokens = [l.strip().split()[0] for l in f]\n",
    "\t\n",
    "\treturn fatext.transform.Vocab(tokens)\n",
    "\n",
    "vocab = loadVocab(\"iso-lc.vocab\")"
   ]
  },
  {
   "cell_type": "markdown",
   "metadata": {},
   "source": [
    "## Datatiedosto:"
   ]
  },
  {
   "cell_type": "code",
   "execution_count": 5,
   "metadata": {},
   "outputs": [
    {
     "data": {
      "text/html": [
       "<div>\n",
       "<style scoped>\n",
       "    .dataframe tbody tr th:only-of-type {\n",
       "        vertical-align: middle;\n",
       "    }\n",
       "\n",
       "    .dataframe tbody tr th {\n",
       "        vertical-align: top;\n",
       "    }\n",
       "\n",
       "    .dataframe thead th {\n",
       "        text-align: right;\n",
       "    }\n",
       "</style>\n",
       "<table border=\"1\" class=\"dataframe\">\n",
       "  <thead>\n",
       "    <tr style=\"text-align: right;\">\n",
       "      <th></th>\n",
       "      <th>Kysymys 20, vastaus 4, perustelu: Turvapaikanhakijoiden suuri tulijamäärä vuonna 2015 on konkreettisestikin lisännyt turvattomuutta. Mukana on tullut Suomen olosuhteisiin uusiakin ilmiöitä , kuten  joukolla tapahtuvaa seksuaalista ahdistelua.  Maahanmuuttajaryhmiä on yliedustettuina muissakin seksuaalirikoksissa. Nykyinen turvapaikanhakujärjestelmä mahdollistaa myös terroristirikollisten liikkumisen , ja siksi siihen on tehtävä muutos. Muutos, joka estää Suomen rajoilta turvapaikanhakemisen. Tämä poistaisi monia ongelmia.</th>\n",
       "    </tr>\n",
       "  </thead>\n",
       "  <tbody>\n",
       "    <tr>\n",
       "      <th>0</th>\n",
       "      <td>Kysymys 12, vastaus 2, perustelu: En koe tunte...</td>\n",
       "    </tr>\n",
       "    <tr>\n",
       "      <th>1</th>\n",
       "      <td>Kysymys 56, vastaus 4, perustelu: Rahoitus on ...</td>\n",
       "    </tr>\n",
       "    <tr>\n",
       "      <th>2</th>\n",
       "      <td>Kysymys 52, vastaus 5, perustelu: Espoossakin ...</td>\n",
       "    </tr>\n",
       "    <tr>\n",
       "      <th>3</th>\n",
       "      <td>Kysymys 28, vastaus 5, perustelu: Äänestäjän t...</td>\n",
       "    </tr>\n",
       "    <tr>\n",
       "      <th>4</th>\n",
       "      <td>Kysymys 13, vastaus 4, perustelu: Suomalainen ...</td>\n",
       "    </tr>\n",
       "  </tbody>\n",
       "</table>\n",
       "</div>"
      ],
      "text/plain": [
       "  Kysymys 20, vastaus 4, perustelu: Turvapaikanhakijoiden suuri tulijamäärä vuonna 2015 on konkreettisestikin lisännyt turvattomuutta. Mukana on tullut Suomen olosuhteisiin uusiakin ilmiöitä , kuten  joukolla tapahtuvaa seksuaalista ahdistelua.  Maahanmuuttajaryhmiä on yliedustettuina muissakin seksuaalirikoksissa. Nykyinen turvapaikanhakujärjestelmä mahdollistaa myös terroristirikollisten liikkumisen , ja siksi siihen on tehtävä muutos. Muutos, joka estää Suomen rajoilta turvapaikanhakemisen. Tämä poistaisi monia ongelmia.\n",
       "0  Kysymys 12, vastaus 2, perustelu: En koe tunte...                                                                                                                                                                                                                                                                                                                                                                                                                                                                                             \n",
       "1  Kysymys 56, vastaus 4, perustelu: Rahoitus on ...                                                                                                                                                                                                                                                                                                                                                                                                                                                                                             \n",
       "2  Kysymys 52, vastaus 5, perustelu: Espoossakin ...                                                                                                                                                                                                                                                                                                                                                                                                                                                                                             \n",
       "3  Kysymys 28, vastaus 5, perustelu: Äänestäjän t...                                                                                                                                                                                                                                                                                                                                                                                                                                                                                             \n",
       "4  Kysymys 13, vastaus 4, perustelu: Suomalainen ...                                                                                                                                                                                                                                                                                                                                                                                                                                                                                             "
      ]
     },
     "execution_count": 5,
     "metadata": {},
     "output_type": "execute_result"
    }
   ],
   "source": [
    "data_file = \"data/vaalidata.csv\"\n",
    "df = fatext.pd.read_csv(data_file)\n",
    "df.head()"
   ]
  },
  {
   "cell_type": "code",
   "execution_count": 6,
   "metadata": {
    "scrolled": true
   },
   "outputs": [
    {
     "data": {
      "text/html": [
       "<table border=\"1\" class=\"dataframe\">\n",
       "  <thead>\n",
       "    <tr style=\"text-align: right;\">\n",
       "      <th>idx</th>\n",
       "      <th>text</th>\n",
       "    </tr>\n",
       "  </thead>\n",
       "  <tbody>\n",
       "    <tr>\n",
       "      <td>0</td>\n",
       "      <td>: ▁pakko ▁haa lia ▁tulevaisuudessa ▁työntekijöitä ▁sieltä ▁mistä ▁saadaan , ▁kun ▁ruotsalaiset , ▁norjalais et ▁ja ▁saksalaiset ▁eivät ▁tänne ▁kuitenkaan ▁suostu ▁tulemaan . ▁xx bo s ▁kysymys ▁9 , ▁vastaus ▁2 , ▁perustelu : ▁sama ▁sille ▁kuka ▁palvelu n ▁tuottaa , ▁kunhan ▁on ▁laadu kasta ▁ja ▁kustannus teho kasta . ▁xx bo s ▁kysymys ▁23 , ▁vastaus ▁4 , ▁perustelu : ▁viha puhe eseen ▁usein ▁liittyvä ▁muiden ▁sanan vapauden</td>\n",
       "    </tr>\n",
       "    <tr>\n",
       "      <td>1</td>\n",
       "      <td>. ▁perhe et ▁kaipaa vat ▁lisää ▁jo usta vuutta ▁ja ▁valinna n vapautta . ▁ei ▁ole ▁tarkoitukse nmukais ta ▁edus kunnasta ▁käsin ▁yrittää ▁sää nne llä , ▁mikä ▁on ▁kullekin ▁perhe elle ▁parasta . ▁jokainen ▁perhe ▁lähtökohta isesti ▁haluaa ▁varmasti ▁lapsensa ▁ja ▁perheensä ▁parasta . ▁on ▁tehtävä ▁kokonais valta isesti ▁perhe ystävällis tä ▁politiikka a . ▁se ▁tarkoittaa ▁panos tuksia ▁varhais kas vat ukseen ▁ja ▁koulu tukseen , ▁paran</td>\n",
       "    </tr>\n",
       "    <tr>\n",
       "      <td>2</td>\n",
       "      <td>▁kysymys ▁30 , ▁vastaus ▁5 , ▁perustelu : ▁rake n tava an ▁yhteis työhön ▁kuuluu ▁toisten ▁huomioon ▁o ttaminen . ▁politiikka ▁ei ▁ole ▁yksilö suo ri tus ▁vaan ▁joukkue peli ä . ▁muut ▁tulee ▁ottaa ▁huomioon ▁myös ▁muilla ▁elämän alueilla . ▁xx bo s ▁kysymys ▁26 , ▁vastaus ▁2 , ▁perustelu : ▁ihmisille ▁täytyy ▁yrittää ▁saada ▁yhtä ▁hyvät ▁asema t , ▁pare mmassa ▁asemassa ▁olevat ▁voisivat ▁auttaa ▁siinä ▁xx</td>\n",
       "    </tr>\n",
       "    <tr>\n",
       "      <td>3</td>\n",
       "      <td>▁emme ▁voi ▁tehdä ▁tarvi ttavia ▁investoi n teja , ▁joilla ▁on ▁suomea ▁suurempi ▁vaikutus . ▁on ▁myös ▁tärkeää ▁huolehti a , ▁etteivät ▁toimenpitee t ▁kurji sta ▁tavallisen ▁ihmisen ▁ar kea . ▁xx bo s ▁kysymys ▁12 , ▁vastaus ▁1 , ▁perustelu : ▁alle ▁18- vuotias ▁on ▁ala ikäinen . ▁xx bo s ▁kysymys ▁6 , ▁vastaus ▁1 , ▁perustelu : ▁yleensä ▁meno jen ▁karsi minen ▁osu u ▁juuri ▁ki</td>\n",
       "    </tr>\n",
       "    <tr>\n",
       "      <td>4</td>\n",
       "      <td>▁ovat ▁erityisen ▁tärkeitä . ▁xx bo s ▁kysymys ▁10 , ▁vastaus ▁2 , ▁perustelu : ▁ulko ista misia ▁yksityis ille ▁toimi joille ▁ei ▁tule ▁lisätä ▁ennenkuin ▁saadaan ▁tiuk enne ttu ▁lainsäädäntö ▁asiasta . ▁suurten ▁toimi joiden ▁välin pi tä mätön ▁ja ▁ahne ▁ase nne ▁ vanh uksia ▁kohtaan ▁on ▁ollut ▁käsi ttä mätöntä . ▁xx bo s ▁kysymys ▁19 , ▁vastaus ▁1 , ▁perustelu : ▁korkeakoulu ja ▁on ▁mielestäni</td>\n",
       "    </tr>\n",
       "  </tbody>\n",
       "</table>"
      ],
      "text/plain": [
       "<IPython.core.display.HTML object>"
      ]
     },
     "metadata": {},
     "output_type": "display_data"
    }
   ],
   "source": [
    "data = fatext.data.TextLMDataBunch.from_csv(\".\", data_file, text_cols=0, tokenizer=tokenizer, vocab=vocab)\n",
    "data.show_batch()"
   ]
  },
  {
   "cell_type": "code",
   "execution_count": 7,
   "metadata": {},
   "outputs": [],
   "source": [
    "learner = fatext.learner.language_model_learner(data, fatext.models.AWD_LSTM, pretrained=False)"
   ]
  },
  {
   "cell_type": "markdown",
   "metadata": {},
   "source": [
    "## Suorita vain jos haluat kouluttaa mallin:"
   ]
  },
  {
   "cell_type": "code",
   "execution_count": 8,
   "metadata": {},
   "outputs": [
    {
     "data": {
      "text/plain": [
       "LanguageLearner(data=TextLMDataBunch;\n",
       "\n",
       "Train: LabelList (44467 items)\n",
       "x: LMTextList\n",
       "▁xx bo s ▁kysymys ▁22 , ▁vastaus ▁1 , ▁perustelu : ▁suomi ▁tunnetaan ▁puolueettoma na ▁maan a ▁ja ▁rauhan ▁ rakentaja na ▁maailmassa . ▁tähän ▁maine eseen ▁ei ▁ole ▁syytä ▁tehdä ▁muutoksia .,▁xx bo s ▁kysymys ▁28 , ▁vastaus ▁5 , ▁perustelu : ▁valtio vallan ▁velvollisuus ▁on ▁työskennellä ▁sen ▁kansan ▁edu n ▁eteen , ▁joka ▁sille ▁on ▁vallan ▁antanut,▁xx bo s ▁kysymys ▁21 , ▁vastaus ▁5 , ▁perustelu : ▁pakko ▁haa lia ▁tulevaisuudessa ▁työntekijöitä ▁sieltä ▁mistä ▁saadaan , ▁kun ▁ruotsalaiset , ▁norjalais et ▁ja ▁saksalaiset ▁eivät ▁tänne ▁kuitenkaan ▁suostu ▁tulemaan .,▁xx bo s ▁kysymys ▁9 , ▁vastaus ▁2 , ▁perustelu : ▁sama ▁sille ▁kuka ▁palvelu n ▁tuottaa , ▁kunhan ▁on ▁laadu kasta ▁ja ▁kustannus teho kasta .,▁xx bo s ▁kysymys ▁23 , ▁vastaus ▁4 , ▁perustelu : ▁viha puhe eseen ▁usein ▁liittyvä ▁muiden ▁sanan vapauden ▁rajoitta minen ▁tulee ▁tunnistaa ▁niin ▁lainsäädännö ssä ▁kuin ▁oikeus käy tä n n össä .\n",
       "y: LMLabelList\n",
       ",,,,\n",
       "Path: .;\n",
       "\n",
       "Valid: LabelList (11117 items)\n",
       "x: LMTextList\n",
       "▁xx bo s ▁kysymys ▁59 , ▁vastaus ▁1 , ▁perustelu : ▁helsingin ▁yleis kaava ssa ▁ei ▁santa hamin a ▁kuulu ▁rakennetta vien ▁alueiden ▁ listalle . ▁santa hamin assa ▁on ▁myös ▁arvokas ta ▁luontoa , ▁jota ▁tulee ▁suojella .,▁xx bo s ▁kysymys ▁27 , ▁vastaus ▁ , ▁perustelu : ▁täysin ▁epä määrä inen ▁kysymys .,▁xx bo s ▁kysymys ▁6 , ▁vastaus ▁4 , ▁perustelu : ▁kulu t ▁ensisijaisesti ▁kuri in .,▁xx bo s ▁kysymys ▁56 , ▁vastaus ▁2 , ▁perustelu : ▁sikäli ▁mikäli ▁metro lle ▁on ▁hyvät ▁perustelu t ▁olemassa . ▁metro n ▁rakentaminen ▁on ▁kallista ▁ja ▁ympäristö ä ▁kuormi ttavaa ▁toimintaa , ▁jota ▁on ▁syytä ▁harkit a ▁ perusteellisesti .,▁xx bo s ▁kysymys ▁4 , ▁vastaus ▁2 , ▁perustelu : ▁kunnat ▁voivat ▁tehdä ▁ruoka palvelu issaan ▁kasvi s ruoka päivi ä , ▁jotka ▁tukeva t ▁ilmasto ta voi t teita ▁ja ▁terve e llistä ▁ruokavalio ta .\n",
       "y: LMLabelList\n",
       ",,,,\n",
       "Path: .;\n",
       "\n",
       "Test: None, model=SequentialRNN(\n",
       "  (0): AWD_LSTM(\n",
       "    (encoder): Embedding(24000, 400, padding_idx=1)\n",
       "    (encoder_dp): EmbeddingDropout(\n",
       "      (emb): Embedding(24000, 400, padding_idx=1)\n",
       "    )\n",
       "    (rnns): ModuleList(\n",
       "      (0): WeightDropout(\n",
       "        (module): LSTM(400, 1150, batch_first=True)\n",
       "      )\n",
       "      (1): WeightDropout(\n",
       "        (module): LSTM(1150, 1150, batch_first=True)\n",
       "      )\n",
       "      (2): WeightDropout(\n",
       "        (module): LSTM(1150, 400, batch_first=True)\n",
       "      )\n",
       "    )\n",
       "    (input_dp): RNNDropout()\n",
       "    (hidden_dps): ModuleList(\n",
       "      (0): RNNDropout()\n",
       "      (1): RNNDropout()\n",
       "      (2): RNNDropout()\n",
       "    )\n",
       "  )\n",
       "  (1): LinearDecoder(\n",
       "    (decoder): Linear(in_features=400, out_features=24000, bias=True)\n",
       "    (output_dp): RNNDropout()\n",
       "  )\n",
       "), opt_func=functools.partial(<class 'torch.optim.adam.Adam'>, betas=(0.9, 0.99)), loss_func=FlattenedLoss of CrossEntropyLoss(), metrics=[<function accuracy at 0x7f1a7c6bdbf8>], true_wd=True, bn_wd=True, wd=0.01, train_bn=True, path=PosixPath('.'), model_dir='models', callback_fns=[functools.partial(<class 'fastai.basic_train.Recorder'>, add_time=True)], callbacks=[RNNTrainer\n",
       "learn: LanguageLearner(data=TextLMDataBunch;\n",
       "\n",
       "Train: LabelList (44467 items)\n",
       "x: LMTextList\n",
       "▁xx bo s ▁kysymys ▁22 , ▁vastaus ▁1 , ▁perustelu : ▁suomi ▁tunnetaan ▁puolueettoma na ▁maan a ▁ja ▁rauhan ▁ rakentaja na ▁maailmassa . ▁tähän ▁maine eseen ▁ei ▁ole ▁syytä ▁tehdä ▁muutoksia .,▁xx bo s ▁kysymys ▁28 , ▁vastaus ▁5 , ▁perustelu : ▁valtio vallan ▁velvollisuus ▁on ▁työskennellä ▁sen ▁kansan ▁edu n ▁eteen , ▁joka ▁sille ▁on ▁vallan ▁antanut,▁xx bo s ▁kysymys ▁21 , ▁vastaus ▁5 , ▁perustelu : ▁pakko ▁haa lia ▁tulevaisuudessa ▁työntekijöitä ▁sieltä ▁mistä ▁saadaan , ▁kun ▁ruotsalaiset , ▁norjalais et ▁ja ▁saksalaiset ▁eivät ▁tänne ▁kuitenkaan ▁suostu ▁tulemaan .,▁xx bo s ▁kysymys ▁9 , ▁vastaus ▁2 , ▁perustelu : ▁sama ▁sille ▁kuka ▁palvelu n ▁tuottaa , ▁kunhan ▁on ▁laadu kasta ▁ja ▁kustannus teho kasta .,▁xx bo s ▁kysymys ▁23 , ▁vastaus ▁4 , ▁perustelu : ▁viha puhe eseen ▁usein ▁liittyvä ▁muiden ▁sanan vapauden ▁rajoitta minen ▁tulee ▁tunnistaa ▁niin ▁lainsäädännö ssä ▁kuin ▁oikeus käy tä n n össä .\n",
       "y: LMLabelList\n",
       ",,,,\n",
       "Path: .;\n",
       "\n",
       "Valid: LabelList (11117 items)\n",
       "x: LMTextList\n",
       "▁xx bo s ▁kysymys ▁59 , ▁vastaus ▁1 , ▁perustelu : ▁helsingin ▁yleis kaava ssa ▁ei ▁santa hamin a ▁kuulu ▁rakennetta vien ▁alueiden ▁ listalle . ▁santa hamin assa ▁on ▁myös ▁arvokas ta ▁luontoa , ▁jota ▁tulee ▁suojella .,▁xx bo s ▁kysymys ▁27 , ▁vastaus ▁ , ▁perustelu : ▁täysin ▁epä määrä inen ▁kysymys .,▁xx bo s ▁kysymys ▁6 , ▁vastaus ▁4 , ▁perustelu : ▁kulu t ▁ensisijaisesti ▁kuri in .,▁xx bo s ▁kysymys ▁56 , ▁vastaus ▁2 , ▁perustelu : ▁sikäli ▁mikäli ▁metro lle ▁on ▁hyvät ▁perustelu t ▁olemassa . ▁metro n ▁rakentaminen ▁on ▁kallista ▁ja ▁ympäristö ä ▁kuormi ttavaa ▁toimintaa , ▁jota ▁on ▁syytä ▁harkit a ▁ perusteellisesti .,▁xx bo s ▁kysymys ▁4 , ▁vastaus ▁2 , ▁perustelu : ▁kunnat ▁voivat ▁tehdä ▁ruoka palvelu issaan ▁kasvi s ruoka päivi ä , ▁jotka ▁tukeva t ▁ilmasto ta voi t teita ▁ja ▁terve e llistä ▁ruokavalio ta .\n",
       "y: LMLabelList\n",
       ",,,,\n",
       "Path: .;\n",
       "\n",
       "Test: None, model=SequentialRNN(\n",
       "  (0): AWD_LSTM(\n",
       "    (encoder): Embedding(24000, 400, padding_idx=1)\n",
       "    (encoder_dp): EmbeddingDropout(\n",
       "      (emb): Embedding(24000, 400, padding_idx=1)\n",
       "    )\n",
       "    (rnns): ModuleList(\n",
       "      (0): WeightDropout(\n",
       "        (module): LSTM(400, 1150, batch_first=True)\n",
       "      )\n",
       "      (1): WeightDropout(\n",
       "        (module): LSTM(1150, 1150, batch_first=True)\n",
       "      )\n",
       "      (2): WeightDropout(\n",
       "        (module): LSTM(1150, 400, batch_first=True)\n",
       "      )\n",
       "    )\n",
       "    (input_dp): RNNDropout()\n",
       "    (hidden_dps): ModuleList(\n",
       "      (0): RNNDropout()\n",
       "      (1): RNNDropout()\n",
       "      (2): RNNDropout()\n",
       "    )\n",
       "  )\n",
       "  (1): LinearDecoder(\n",
       "    (decoder): Linear(in_features=400, out_features=24000, bias=True)\n",
       "    (output_dp): RNNDropout()\n",
       "  )\n",
       "), opt_func=functools.partial(<class 'torch.optim.adam.Adam'>, betas=(0.9, 0.99)), loss_func=FlattenedLoss of CrossEntropyLoss(), metrics=[<function accuracy at 0x7f1a7c6bdbf8>], true_wd=True, bn_wd=True, wd=0.01, train_bn=True, path=PosixPath('.'), model_dir='models', callback_fns=[functools.partial(<class 'fastai.basic_train.Recorder'>, add_time=True)], callbacks=[...], layer_groups=[Sequential(\n",
       "  (0): WeightDropout(\n",
       "    (module): LSTM(400, 1150, batch_first=True)\n",
       "  )\n",
       "  (1): RNNDropout()\n",
       "), Sequential(\n",
       "  (0): WeightDropout(\n",
       "    (module): LSTM(1150, 1150, batch_first=True)\n",
       "  )\n",
       "  (1): RNNDropout()\n",
       "), Sequential(\n",
       "  (0): WeightDropout(\n",
       "    (module): LSTM(1150, 400, batch_first=True)\n",
       "  )\n",
       "  (1): RNNDropout()\n",
       "), Sequential(\n",
       "  (0): Embedding(24000, 400, padding_idx=1)\n",
       "  (1): EmbeddingDropout(\n",
       "    (emb): Embedding(24000, 400, padding_idx=1)\n",
       "  )\n",
       "  (2): LinearDecoder(\n",
       "    (decoder): Linear(in_features=400, out_features=24000, bias=True)\n",
       "    (output_dp): RNNDropout()\n",
       "  )\n",
       ")], add_time=True)\n",
       "alpha: 2.0\n",
       "beta: 1.0], layer_groups=[Sequential(\n",
       "  (0): WeightDropout(\n",
       "    (module): LSTM(400, 1150, batch_first=True)\n",
       "  )\n",
       "  (1): RNNDropout()\n",
       "), Sequential(\n",
       "  (0): WeightDropout(\n",
       "    (module): LSTM(1150, 1150, batch_first=True)\n",
       "  )\n",
       "  (1): RNNDropout()\n",
       "), Sequential(\n",
       "  (0): WeightDropout(\n",
       "    (module): LSTM(1150, 400, batch_first=True)\n",
       "  )\n",
       "  (1): RNNDropout()\n",
       "), Sequential(\n",
       "  (0): Embedding(24000, 400, padding_idx=1)\n",
       "  (1): EmbeddingDropout(\n",
       "    (emb): Embedding(24000, 400, padding_idx=1)\n",
       "  )\n",
       "  (2): LinearDecoder(\n",
       "    (decoder): Linear(in_features=400, out_features=24000, bias=True)\n",
       "    (output_dp): RNNDropout()\n",
       "  )\n",
       ")], add_time=True)"
      ]
     },
     "execution_count": 8,
     "metadata": {},
     "output_type": "execute_result"
    }
   ],
   "source": [
    "learner.load(\"lstm2\")"
   ]
  },
  {
   "cell_type": "code",
   "execution_count": 9,
   "metadata": {},
   "outputs": [
    {
     "data": {
      "text/html": [
       "Total time: 8:04:43 <p><table border=\"1\" class=\"dataframe\">\n",
       "  <thead>\n",
       "    <tr style=\"text-align: left;\">\n",
       "      <th>epoch</th>\n",
       "      <th>train_loss</th>\n",
       "      <th>valid_loss</th>\n",
       "      <th>accuracy</th>\n",
       "      <th>time</th>\n",
       "    </tr>\n",
       "  </thead>\n",
       "  <tbody>\n",
       "    <tr>\n",
       "      <td>0</td>\n",
       "      <td>3.920649</td>\n",
       "      <td>3.636027</td>\n",
       "      <td>0.396093</td>\n",
       "      <td>1:37:58</td>\n",
       "    </tr>\n",
       "    <tr>\n",
       "      <td>1</td>\n",
       "      <td>3.571706</td>\n",
       "      <td>3.336449</td>\n",
       "      <td>0.422474</td>\n",
       "      <td>1:36:25</td>\n",
       "    </tr>\n",
       "    <tr>\n",
       "      <td>2</td>\n",
       "      <td>3.400970</td>\n",
       "      <td>3.226527</td>\n",
       "      <td>0.433598</td>\n",
       "      <td>1:36:40</td>\n",
       "    </tr>\n",
       "    <tr>\n",
       "      <td>3</td>\n",
       "      <td>3.307856</td>\n",
       "      <td>3.189011</td>\n",
       "      <td>0.438441</td>\n",
       "      <td>1:36:50</td>\n",
       "    </tr>\n",
       "    <tr>\n",
       "      <td>4</td>\n",
       "      <td>3.279908</td>\n",
       "      <td>3.184075</td>\n",
       "      <td>0.438862</td>\n",
       "      <td>1:36:48</td>\n",
       "    </tr>\n",
       "  </tbody>\n",
       "</table>"
      ],
      "text/plain": [
       "<IPython.core.display.HTML object>"
      ]
     },
     "metadata": {},
     "output_type": "display_data"
    }
   ],
   "source": [
    "learner.fit_one_cycle(5)"
   ]
  },
  {
   "cell_type": "code",
   "execution_count": 10,
   "metadata": {},
   "outputs": [],
   "source": [
    "learner.save(\"lstm2-vaalidata\")"
   ]
  },
  {
   "cell_type": "markdown",
   "metadata": {},
   "source": [
    "## Suorita tästä eteenpäin valmiilla mallilla:"
   ]
  },
  {
   "cell_type": "code",
   "execution_count": 11,
   "metadata": {},
   "outputs": [
    {
     "ename": "ValueError",
     "evalue": "loaded state dict contains a parameter group that doesn't match the size of optimizer's group",
     "output_type": "error",
     "traceback": [
      "\u001b[0;31m---------------------------------------------------------------------------\u001b[0m",
      "\u001b[0;31mValueError\u001b[0m                                Traceback (most recent call last)",
      "\u001b[0;32m<ipython-input-11-a8dc8012d806>\u001b[0m in \u001b[0;36m<module>\u001b[0;34m\u001b[0m\n\u001b[0;32m----> 1\u001b[0;31m \u001b[0mlearner\u001b[0m\u001b[0;34m.\u001b[0m\u001b[0mload\u001b[0m\u001b[0;34m(\u001b[0m\u001b[0;34m\"lstm2-vaalidata\"\u001b[0m\u001b[0;34m)\u001b[0m\u001b[0;34m\u001b[0m\u001b[0;34m\u001b[0m\u001b[0m\n\u001b[0m",
      "\u001b[0;32m~/Projektit/ulmfit/venv/lib64/python3.6/site-packages/fastai/basic_train.py\u001b[0m in \u001b[0;36mload\u001b[0;34m(self, name, device, strict, with_opt, purge, remove_module)\u001b[0m\n\u001b[1;32m    259\u001b[0m             remove_module:bool=False):\n\u001b[1;32m    260\u001b[0m         \u001b[0;34m\"Load model and optimizer state (if `with_opt`) `name` from `self.model_dir` using `device`.\"\u001b[0m\u001b[0;34m\u001b[0m\u001b[0;34m\u001b[0m\u001b[0m\n\u001b[0;32m--> 261\u001b[0;31m         \u001b[0;32mif\u001b[0m \u001b[0mpurge\u001b[0m\u001b[0;34m:\u001b[0m \u001b[0mself\u001b[0m\u001b[0;34m.\u001b[0m\u001b[0mpurge\u001b[0m\u001b[0;34m(\u001b[0m\u001b[0mclear_opt\u001b[0m\u001b[0;34m=\u001b[0m\u001b[0mifnone\u001b[0m\u001b[0;34m(\u001b[0m\u001b[0mwith_opt\u001b[0m\u001b[0;34m,\u001b[0m \u001b[0;32mFalse\u001b[0m\u001b[0;34m)\u001b[0m\u001b[0;34m)\u001b[0m\u001b[0;34m\u001b[0m\u001b[0;34m\u001b[0m\u001b[0m\n\u001b[0m\u001b[1;32m    262\u001b[0m         \u001b[0;32mif\u001b[0m \u001b[0mdevice\u001b[0m \u001b[0;32mis\u001b[0m \u001b[0;32mNone\u001b[0m\u001b[0;34m:\u001b[0m \u001b[0mdevice\u001b[0m \u001b[0;34m=\u001b[0m \u001b[0mself\u001b[0m\u001b[0;34m.\u001b[0m\u001b[0mdata\u001b[0m\u001b[0;34m.\u001b[0m\u001b[0mdevice\u001b[0m\u001b[0;34m\u001b[0m\u001b[0;34m\u001b[0m\u001b[0m\n\u001b[1;32m    263\u001b[0m         \u001b[0;32melif\u001b[0m \u001b[0misinstance\u001b[0m\u001b[0;34m(\u001b[0m\u001b[0mdevice\u001b[0m\u001b[0;34m,\u001b[0m \u001b[0mint\u001b[0m\u001b[0;34m)\u001b[0m\u001b[0;34m:\u001b[0m \u001b[0mdevice\u001b[0m \u001b[0;34m=\u001b[0m \u001b[0mtorch\u001b[0m\u001b[0;34m.\u001b[0m\u001b[0mdevice\u001b[0m\u001b[0;34m(\u001b[0m\u001b[0;34m'cuda'\u001b[0m\u001b[0;34m,\u001b[0m \u001b[0mdevice\u001b[0m\u001b[0;34m)\u001b[0m\u001b[0;34m\u001b[0m\u001b[0;34m\u001b[0m\u001b[0m\n",
      "\u001b[0;32m~/Projektit/ulmfit/venv/lib64/python3.6/site-packages/fastai/basic_train.py\u001b[0m in \u001b[0;36mpurge\u001b[0;34m(self, clear_opt)\u001b[0m\n\u001b[1;32m    320\u001b[0m         \u001b[0mself\u001b[0m\u001b[0;34m.\u001b[0m\u001b[0mcallbacks\u001b[0m \u001b[0;34m=\u001b[0m \u001b[0;34m[\u001b[0m\u001b[0mload_callback\u001b[0m\u001b[0;34m(\u001b[0m\u001b[0mc\u001b[0m\u001b[0;34m,\u001b[0m\u001b[0ms\u001b[0m\u001b[0;34m,\u001b[0m \u001b[0mself\u001b[0m\u001b[0;34m)\u001b[0m \u001b[0;32mfor\u001b[0m \u001b[0mc\u001b[0m\u001b[0;34m,\u001b[0m\u001b[0ms\u001b[0m \u001b[0;32min\u001b[0m \u001b[0mcb_state\u001b[0m\u001b[0;34m.\u001b[0m\u001b[0mitems\u001b[0m\u001b[0;34m(\u001b[0m\u001b[0;34m)\u001b[0m\u001b[0;34m]\u001b[0m\u001b[0;34m\u001b[0m\u001b[0;34m\u001b[0m\u001b[0m\n\u001b[1;32m    321\u001b[0m         \u001b[0;32mif\u001b[0m \u001b[0;32mnot\u001b[0m \u001b[0mclear_opt\u001b[0m \u001b[0;32mand\u001b[0m \u001b[0;34m'opt'\u001b[0m \u001b[0;32min\u001b[0m \u001b[0mstate\u001b[0m\u001b[0;34m:\u001b[0m\u001b[0;34m\u001b[0m\u001b[0;34m\u001b[0m\u001b[0m\n\u001b[0;32m--> 322\u001b[0;31m             \u001b[0mself\u001b[0m\u001b[0;34m.\u001b[0m\u001b[0mopt\u001b[0m \u001b[0;34m=\u001b[0m \u001b[0mOptimWrapper\u001b[0m\u001b[0;34m.\u001b[0m\u001b[0mload_with_state_and_layer_group\u001b[0m\u001b[0;34m(\u001b[0m\u001b[0mstate\u001b[0m\u001b[0;34m[\u001b[0m\u001b[0;34m'opt'\u001b[0m\u001b[0;34m]\u001b[0m\u001b[0;34m,\u001b[0m \u001b[0mself\u001b[0m\u001b[0;34m.\u001b[0m\u001b[0mlayer_groups\u001b[0m\u001b[0;34m)\u001b[0m\u001b[0;34m\u001b[0m\u001b[0;34m\u001b[0m\u001b[0m\n\u001b[0m\u001b[1;32m    323\u001b[0m         \u001b[0;32mdel\u001b[0m \u001b[0mstate\u001b[0m\u001b[0;34m\u001b[0m\u001b[0;34m\u001b[0m\u001b[0m\n\u001b[1;32m    324\u001b[0m         \u001b[0mgc\u001b[0m\u001b[0;34m.\u001b[0m\u001b[0mcollect\u001b[0m\u001b[0;34m(\u001b[0m\u001b[0;34m)\u001b[0m\u001b[0;34m\u001b[0m\u001b[0;34m\u001b[0m\u001b[0m\n",
      "\u001b[0;32m~/Projektit/ulmfit/venv/lib64/python3.6/site-packages/fastai/callback.py\u001b[0m in \u001b[0;36mload_with_state_and_layer_group\u001b[0;34m(cls, state, layer_groups)\u001b[0m\n\u001b[1;32m    153\u001b[0m                      bn_wd=state['bn_wd'])\n\u001b[1;32m    154\u001b[0m         \u001b[0mres\u001b[0m\u001b[0;34m.\u001b[0m\u001b[0m_mom\u001b[0m\u001b[0;34m,\u001b[0m\u001b[0mres\u001b[0m\u001b[0;34m.\u001b[0m\u001b[0m_beta\u001b[0m \u001b[0;34m=\u001b[0m \u001b[0mstate\u001b[0m\u001b[0;34m[\u001b[0m\u001b[0;34m'mom'\u001b[0m\u001b[0;34m]\u001b[0m\u001b[0;34m,\u001b[0m\u001b[0mstate\u001b[0m\u001b[0;34m[\u001b[0m\u001b[0;34m'beta'\u001b[0m\u001b[0;34m]\u001b[0m\u001b[0;34m\u001b[0m\u001b[0;34m\u001b[0m\u001b[0m\n\u001b[0;32m--> 155\u001b[0;31m         \u001b[0mres\u001b[0m\u001b[0;34m.\u001b[0m\u001b[0mload_state_dict\u001b[0m\u001b[0;34m(\u001b[0m\u001b[0mstate\u001b[0m\u001b[0;34m[\u001b[0m\u001b[0;34m'opt_state'\u001b[0m\u001b[0;34m]\u001b[0m\u001b[0;34m)\u001b[0m\u001b[0;34m\u001b[0m\u001b[0;34m\u001b[0m\u001b[0m\n\u001b[0m\u001b[1;32m    156\u001b[0m         \u001b[0;32mreturn\u001b[0m \u001b[0mres\u001b[0m\u001b[0;34m\u001b[0m\u001b[0;34m\u001b[0m\u001b[0m\n\u001b[1;32m    157\u001b[0m \u001b[0;34m\u001b[0m\u001b[0m\n",
      "\u001b[0;32m~/Projektit/ulmfit/venv/lib64/python3.6/site-packages/torch/optim/optimizer.py\u001b[0m in \u001b[0;36mload_state_dict\u001b[0;34m(self, state_dict)\u001b[0m\n\u001b[1;32m    112\u001b[0m         \u001b[0msaved_lens\u001b[0m \u001b[0;34m=\u001b[0m \u001b[0;34m(\u001b[0m\u001b[0mlen\u001b[0m\u001b[0;34m(\u001b[0m\u001b[0mg\u001b[0m\u001b[0;34m[\u001b[0m\u001b[0;34m'params'\u001b[0m\u001b[0;34m]\u001b[0m\u001b[0;34m)\u001b[0m \u001b[0;32mfor\u001b[0m \u001b[0mg\u001b[0m \u001b[0;32min\u001b[0m \u001b[0msaved_groups\u001b[0m\u001b[0;34m)\u001b[0m\u001b[0;34m\u001b[0m\u001b[0;34m\u001b[0m\u001b[0m\n\u001b[1;32m    113\u001b[0m         \u001b[0;32mif\u001b[0m \u001b[0many\u001b[0m\u001b[0;34m(\u001b[0m\u001b[0mp_len\u001b[0m \u001b[0;34m!=\u001b[0m \u001b[0ms_len\u001b[0m \u001b[0;32mfor\u001b[0m \u001b[0mp_len\u001b[0m\u001b[0;34m,\u001b[0m \u001b[0ms_len\u001b[0m \u001b[0;32min\u001b[0m \u001b[0mzip\u001b[0m\u001b[0;34m(\u001b[0m\u001b[0mparam_lens\u001b[0m\u001b[0;34m,\u001b[0m \u001b[0msaved_lens\u001b[0m\u001b[0;34m)\u001b[0m\u001b[0;34m)\u001b[0m\u001b[0;34m:\u001b[0m\u001b[0;34m\u001b[0m\u001b[0;34m\u001b[0m\u001b[0m\n\u001b[0;32m--> 114\u001b[0;31m             raise ValueError(\"loaded state dict contains a parameter group \"\n\u001b[0m\u001b[1;32m    115\u001b[0m                              \"that doesn't match the size of optimizer's group\")\n\u001b[1;32m    116\u001b[0m \u001b[0;34m\u001b[0m\u001b[0m\n",
      "\u001b[0;31mValueError\u001b[0m: loaded state dict contains a parameter group that doesn't match the size of optimizer's group"
     ]
    }
   ],
   "source": [
    "learner.load(\"lstm2-vaalidata\")"
   ]
  },
  {
   "cell_type": "code",
   "execution_count": 12,
   "metadata": {
    "scrolled": true
   },
   "outputs": [
    {
     "name": "stdout",
     "output_type": "stream",
     "text": [
      "olit realistinen ratkaisu, ja sen vuoksi ei ole tarvetta pyrkiä järjestämään ulkomaista yhteistyötä. \n",
      " kysymys 6, vastaus 2, perustelu: valtion menoja ei tule enää nostaa, joten menojen karsiminen ei välttämättä ole osa suomen valtion verotusta. \n",
      " kysymys 53, vastaus 4, perustelu: se on hyvä vaihtoehto. ydinvoima on tärkeää ja on hyvä olla mukana myös tuulivoiman vastaisessa työssä. \n",
      " kysymys 91, vastaus 2, perustelu: päärata on tampereella. lähijunaliikenne on tärkeä elinkeino ja liikennepoliittinen investointi. \n",
      " kysymys 16, vastaus 1, perustelu: perhevapaauudistuksen tulee olla liian pidentävää. \n",
      " kysymys 30, vastaus 5, perustelu: on oikein nähdä vaivaa, mutta ei kuitenkaan. \n",
      " kysymys 26, vastaus 2, perustelu: koko yhteiskunta ei voi menestyä. \n",
      " kysymys 30, vastaus 4, perustelu: jokaisella ihmisellä on oikeus hyvään elämään. \n",
      " kysymys 9, vastaus 2, perustelu: julkis\n"
     ]
    }
   ],
   "source": [
    "print(learner.predict(\"olit\", 200, temperature=0.7).replace(\" \", \"\").replace(\"▁\", \" \").replace(\"xxbos\", \"\\n\"))"
   ]
  },
  {
   "cell_type": "code",
   "execution_count": null,
   "metadata": {},
   "outputs": [],
   "source": []
  }
 ],
 "metadata": {
  "kernelspec": {
   "display_name": "Python 3",
   "language": "python",
   "name": "python3"
  },
  "language_info": {
   "codemirror_mode": {
    "name": "ipython",
    "version": 3
   },
   "file_extension": ".py",
   "mimetype": "text/x-python",
   "name": "python",
   "nbconvert_exporter": "python",
   "pygments_lexer": "ipython3",
   "version": "3.6.8"
  }
 },
 "nbformat": 4,
 "nbformat_minor": 2
}
