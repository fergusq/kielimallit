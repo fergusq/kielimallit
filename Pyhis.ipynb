{
 "cells": [
  {
   "cell_type": "markdown",
   "metadata": {},
   "source": [
    "# Mallin hienosäätäminen"
   ]
  },
  {
   "cell_type": "code",
   "execution_count": 1,
   "metadata": {},
   "outputs": [],
   "source": [
    "import fastai.text as fatext\n",
    "import numpy as np\n",
    "import sentencepiece as sp\n",
    "from typing import List"
   ]
  },
  {
   "cell_type": "code",
   "execution_count": 2,
   "metadata": {},
   "outputs": [
    {
     "data": {
      "text/plain": [
       "True"
      ]
     },
     "execution_count": 2,
     "metadata": {},
     "output_type": "execute_result"
    }
   ],
   "source": [
    "spm = sp.SentencePieceProcessor()\n",
    "spm.Load(\"iso-lc.model\")"
   ]
  },
  {
   "cell_type": "code",
   "execution_count": 3,
   "metadata": {},
   "outputs": [],
   "source": [
    "class SPMTokenizer:\n",
    "\tdef __init__(self, lang: str):\n",
    "\t\tpass\n",
    "\tdef tokenizer(self, text: str) -> List[str]:\n",
    "\t\treturn spm.EncodeAsPieces(text.lower())\n",
    "\tdef add_special_cases(self, *args):\n",
    "\t\tpass\n",
    "\n",
    "tokenizer = fatext.transform.Tokenizer(SPMTokenizer)"
   ]
  },
  {
   "cell_type": "code",
   "execution_count": 4,
   "metadata": {},
   "outputs": [],
   "source": [
    "def loadVocab(filename: str):\n",
    "\twith open(filename, \"r\") as f:\n",
    "\t\ttokens = [l.strip().split()[0] for l in f]\n",
    "\t\n",
    "\treturn fatext.transform.Vocab(tokens)\n",
    "\n",
    "vocab = loadVocab(\"iso-lc.vocab\")"
   ]
  },
  {
   "cell_type": "markdown",
   "metadata": {},
   "source": [
    "## Datatiedosto:"
   ]
  },
  {
   "cell_type": "code",
   "execution_count": 11,
   "metadata": {},
   "outputs": [
    {
     "data": {
      "text/html": [
       "<div>\n",
       "<style scoped>\n",
       "    .dataframe tbody tr th:only-of-type {\n",
       "        vertical-align: middle;\n",
       "    }\n",
       "\n",
       "    .dataframe tbody tr th {\n",
       "        vertical-align: top;\n",
       "    }\n",
       "\n",
       "    .dataframe thead th {\n",
       "        text-align: right;\n",
       "    }\n",
       "</style>\n",
       "<table border=\"1\" class=\"dataframe\">\n",
       "  <thead>\n",
       "    <tr style=\"text-align: right;\">\n",
       "      <th></th>\n",
       "      <th>Hahmokuvaus</th>\n",
       "    </tr>\n",
       "  </thead>\n",
       "  <tbody>\n",
       "    <tr>\n",
       "      <th>0</th>\n",
       "      <td>Olit vanhempiesi Tuomaksen ja Elenan ainoa lap...</td>\n",
       "    </tr>\n",
       "    <tr>\n",
       "      <th>1</th>\n",
       "      <td>Koko täydellinen elämäsi mureni muutama kuukau...</td>\n",
       "    </tr>\n",
       "    <tr>\n",
       "      <th>2</th>\n",
       "      <td>Korpivaaroille muuttaminen toi elämääsi paljon...</td>\n",
       "    </tr>\n",
       "    <tr>\n",
       "      <th>3</th>\n",
       "      <td>Seuraavana syksynä aloitit neljännen luokan Py...</td>\n",
       "    </tr>\n",
       "    <tr>\n",
       "      <th>4</th>\n",
       "      <td>Vaikka Oona ei koskaan kunnolla hyväksynyt sin...</td>\n",
       "    </tr>\n",
       "  </tbody>\n",
       "</table>\n",
       "</div>"
      ],
      "text/plain": [
       "                                         Hahmokuvaus\n",
       "0  Olit vanhempiesi Tuomaksen ja Elenan ainoa lap...\n",
       "1  Koko täydellinen elämäsi mureni muutama kuukau...\n",
       "2  Korpivaaroille muuttaminen toi elämääsi paljon...\n",
       "3  Seuraavana syksynä aloitit neljännen luokan Py...\n",
       "4  Vaikka Oona ei koskaan kunnolla hyväksynyt sin..."
      ]
     },
     "execution_count": 11,
     "metadata": {},
     "output_type": "execute_result"
    }
   ],
   "source": [
    "data_file = \"pyhis.csv\"\n",
    "df = fatext.pd.read_csv(data_file)\n",
    "df.head()"
   ]
  },
  {
   "cell_type": "code",
   "execution_count": 7,
   "metadata": {
    "scrolled": true
   },
   "outputs": [
    {
     "data": {
      "text/html": [
       "<table border=\"1\" class=\"dataframe\">\n",
       "  <thead>\n",
       "    <tr style=\"text-align: right;\">\n",
       "      <th>idx</th>\n",
       "      <th>text</th>\n",
       "    </tr>\n",
       "  </thead>\n",
       "  <tbody>\n",
       "    <tr>\n",
       "      <td>0</td>\n",
       "      <td>▁ja ▁lempeä ▁johtaja ▁mutta ▁en ▁oikein ▁tiedä ▁uskoo ko ▁hän ▁sitä ▁itsekään . ▁xx bo s ▁tutustui t ▁rai sa an ▁pahimma lla ▁mahdollise lla ▁hetkellä . ▁katarina ▁oli ▁juuri ▁lähtenyt ▁ja ▁oli t ▁tullut ▁isäsi ▁mukana ▁pyhä vuorelle . ▁millä ▁tahansa ▁muulla ▁hetkellä ▁olisi t ▁varmasti ▁ottanut ▁vastaan ▁sen ▁lämmön , ▁jota ▁nainen ▁sinulle ▁tarjosi , ▁mutta ▁juuri ▁silloin ▁oli t ▁vain ▁liian ▁rikki nä inen . ▁olet</td>\n",
       "    </tr>\n",
       "    <tr>\n",
       "      <td>1</td>\n",
       "      <td>▁muu ttaminen ▁toi ▁elämää si ▁paljon ▁suuremman kin ▁muutoksen ▁kuin ▁uudet ▁sisar ukset . ▁pikkuhiljaa ▁sinua ▁alettiin ▁päästää ▁sisään ▁siihen ▁maailmaan ▁jossa ▁he ▁eli vät ▁ja ▁aikanaan ▁sai t ▁kuulla ▁kaiken ▁siitä ▁kuinka ▁täti si ▁perhe ▁oli ▁ihmis su sia . ▁sinut ▁kasva tettiin ▁hyväksy mään ▁ja ▁oppi maan ▁lauma n ▁tavat ▁ja ▁vaikka ▁oli t ▁ihminen ▁ja ▁et ▁koskaan ▁olisi ▁kunnolla ▁osa ▁lauma a , ▁kuului t ▁silti</td>\n",
       "    </tr>\n",
       "    <tr>\n",
       "      <td>2</td>\n",
       "      <td>, ▁että ▁kuu ra , ▁kuten ▁koko ▁muu kin ▁lauma , ▁tunsivat ▁jonkun ▁muuttuva n . ▁oli t ▁hetken ▁aikaa ▁ollut ▁toive i kas ▁ja ▁koko ▁päivän ▁odot ellut ▁oireita , ▁mutta ▁ iltaan ▁mennessä ▁tiesi t , ▁että ▁toivo ▁oli ▁turha . ▁jos ▁joku ▁oli ▁nyt ▁täyden kuun ▁aikana ▁muut tu massa , ▁sinä ▁se ▁et ▁ainakaan ▁ollut . ▁xx bo s ▁mukava , ▁luotettava , ▁sitoutu nut</td>\n",
       "    </tr>\n",
       "    <tr>\n",
       "      <td>3</td>\n",
       "      <td>▁silti ▁herkkä , ▁roman ttinen ▁ja ▁rakastava . ▁kaikkeen ▁muuhun ▁osaa t ▁suhtautu a ▁järkevä sti ▁ja ▁asia llisesti , ▁mutta ▁mitä ▁rakka uteen ▁tulee ▁toimi t ▁imp ul si iv isesti ▁ja ▁harkit se mattomasti . ▁xx bo s ▁minusta ▁tuntuu ▁että ▁kuu ra ▁haasta a ▁minua ▁nykyään ▁tahallaan , ▁välillä ▁on ▁todellisi a ▁vaikeuksia ▁saada ▁häntä ▁pysymään ▁kuri ssa . ▁olen ▁koi ttanut ▁puhua ▁hänen ▁kanssaan ▁siitä</td>\n",
       "    </tr>\n",
       "    <tr>\n",
       "      <td>4</td>\n",
       "      <td>▁keskellä ▁toisen laista ▁maailmaa ▁kun ▁millaise ksi ▁oli t ▁sen ▁kuvi tellut , ▁ja ▁silloin ▁näit ▁ensimmäisen ▁kerran ▁unta ▁aa vasta . ▁ensimmäiset ▁une t ▁olivat ▁vain ▁sumu isia ▁väl ä hd yksiä , ▁kuin ▁joku ▁pyrki si ▁luokse si ▁mutta ▁juuri ▁kun ▁hän ▁oli ▁saavuttama isilla an ▁sinut , ▁katosi ▁tämä ▁jälleen ▁näkö piiri stä . ▁yö ▁yö ltä ▁nuo ▁une t ▁kuitenkin ▁selke ni vät , ▁pian</td>\n",
       "    </tr>\n",
       "  </tbody>\n",
       "</table>"
      ],
      "text/plain": [
       "<IPython.core.display.HTML object>"
      ]
     },
     "metadata": {},
     "output_type": "display_data"
    }
   ],
   "source": [
    "data = fatext.data.TextLMDataBunch.from_csv(\".\", data_file, text_cols=0, tokenizer=tokenizer, vocab=vocab)\n",
    "data.show_batch()"
   ]
  },
  {
   "cell_type": "code",
   "execution_count": 17,
   "metadata": {},
   "outputs": [],
   "source": [
    "learner = fatext.learner.language_model_learner(data, fatext.models.AWD_LSTM, pretrained=False)"
   ]
  },
  {
   "cell_type": "markdown",
   "metadata": {},
   "source": [
    "## Suorita vain jos haluat kouluttaa mallin:"
   ]
  },
  {
   "cell_type": "code",
   "execution_count": null,
   "metadata": {},
   "outputs": [],
   "source": [
    "learner.load(\"lstm2\")"
   ]
  },
  {
   "cell_type": "code",
   "execution_count": 10,
   "metadata": {},
   "outputs": [
    {
     "data": {
      "text/html": [
       "Total time: 50:35 <p><table border=\"1\" class=\"dataframe\">\n",
       "  <thead>\n",
       "    <tr style=\"text-align: left;\">\n",
       "      <th>epoch</th>\n",
       "      <th>train_loss</th>\n",
       "      <th>valid_loss</th>\n",
       "      <th>accuracy</th>\n",
       "      <th>time</th>\n",
       "    </tr>\n",
       "  </thead>\n",
       "  <tbody>\n",
       "    <tr>\n",
       "      <td>0</td>\n",
       "      <td>5.295002</td>\n",
       "      <td>4.770745</td>\n",
       "      <td>0.267232</td>\n",
       "      <td>10:12</td>\n",
       "    </tr>\n",
       "    <tr>\n",
       "      <td>1</td>\n",
       "      <td>4.840653</td>\n",
       "      <td>4.306872</td>\n",
       "      <td>0.297202</td>\n",
       "      <td>09:46</td>\n",
       "    </tr>\n",
       "    <tr>\n",
       "      <td>2</td>\n",
       "      <td>4.507465</td>\n",
       "      <td>4.183293</td>\n",
       "      <td>0.308348</td>\n",
       "      <td>09:41</td>\n",
       "    </tr>\n",
       "    <tr>\n",
       "      <td>3</td>\n",
       "      <td>4.315166</td>\n",
       "      <td>4.140130</td>\n",
       "      <td>0.312098</td>\n",
       "      <td>10:07</td>\n",
       "    </tr>\n",
       "    <tr>\n",
       "      <td>4</td>\n",
       "      <td>4.214781</td>\n",
       "      <td>4.134043</td>\n",
       "      <td>0.312262</td>\n",
       "      <td>10:47</td>\n",
       "    </tr>\n",
       "  </tbody>\n",
       "</table>"
      ],
      "text/plain": [
       "<IPython.core.display.HTML object>"
      ]
     },
     "metadata": {},
     "output_type": "display_data"
    }
   ],
   "source": [
    "learner.fit_one_cycle(5)"
   ]
  },
  {
   "cell_type": "code",
   "execution_count": null,
   "metadata": {},
   "outputs": [],
   "source": [
    "learner.save(\"lstm2-pyhis\")"
   ]
  },
  {
   "cell_type": "markdown",
   "metadata": {},
   "source": [
    "## Suorita tästä eteenpäin valmiilla mallilla:"
   ]
  },
  {
   "cell_type": "code",
   "execution_count": 18,
   "metadata": {},
   "outputs": [
    {
     "data": {
      "text/plain": [
       "LanguageLearner(data=TextLMDataBunch;\n",
       "\n",
       "Train: LabelList (1815 items)\n",
       "x: LMTextList\n",
       "▁xx bo s ▁tarmo han ▁olisi ▁luonteeltaan ▁aivan ▁täydellinen ▁lauma n johtajaksi . ▁hän ▁vain ▁oli ▁ur po ▁ja ▁halusi ▁mennä ▁naimisiin ▁soi len ▁kanssa , ▁jolloin ▁hän ▁luopui ▁ mahdollisuude staan ▁tulla ▁koskaan ▁alfa ksi . ▁minä ... ▁en ▁varmaankaan ▁kenenkään ▁mielestä ▁olisi ▁sopiva ▁lauma n johtaja . ▁toivottavasti ▁ainakaan , ▁sillä ▁itse ▁en ▁koe ▁sellaiseksi ▁sopiva ni . ▁äiti ▁on ▁koi ttanut ▁sanoa ▁että ▁minusta ▁tulisi ▁oikein ▁hyvä ▁ja ▁lempeä ▁johtaja ▁mutta ▁en ▁oikein ▁tiedä ▁uskoo ko ▁hän ▁sitä ▁itsekään .,▁xx bo s ▁tutustui t ▁rai sa an ▁pahimma lla ▁mahdollise lla ▁hetkellä . ▁katarina ▁oli ▁juuri ▁lähtenyt ▁ja ▁oli t ▁tullut ▁isäsi ▁mukana ▁pyhä vuorelle . ▁millä ▁tahansa ▁muulla ▁hetkellä ▁olisi t ▁varmasti ▁ottanut ▁vastaan ▁sen ▁lämmön , ▁jota ▁nainen ▁sinulle ▁tarjosi , ▁mutta ▁juuri ▁silloin ▁oli t ▁vain ▁liian ▁rikki nä inen . ▁olet ▁usein ▁ajatuksi ssa si ▁palannut ▁rai sa an ▁ja ▁siihen ▁mitä ▁olisi ▁voinut ▁olla , ▁jos ▁olisi t ▁uskaltanut ▁avata ▁hänelle ▁sydäme si . ▁rai sa ▁saapui ▁pyhä vuorelle ▁muutama ▁kuukausi ▁sitten ▁ja ▁olette ▁tuskin ▁vaihta neet ▁enempää ▁kuin ▁muutaman ▁sanan . ▁olet ▁kuitenkin ▁löytänyt ▁itse si ▁muutaman ▁kerran ▁muistele masta ▁sitä ▁lyhyt tä ▁aikaa , ▁jonka ▁vie t itte ▁yhdessä ▁silloin ▁vuosia ▁sitten , ▁onko ▁sinulle ▁vielä ▁joitakin ▁tunteita ▁jäljellä ? ▁vai ▁tak er ru tko ▁vain ▁kaikkeen ▁minkä ▁olet ▁joskus ▁menettänyt ?,▁xx bo s ▁ei ▁elämä si ▁edel wald teilla ▁koskaan ▁oikeasti ▁kurja a ▁ollut , ▁mutta ▁mielessä si ▁paisu tteli t ▁pieniä kin ▁asioita ▁ja ▁jo ▁lapsesta ▁saakka ▁olet ▁aina ▁etsi nyt ▁jotakin ▁mitä ▁syyttää ▁kaikesta ▁mikä ▁elämässä si ▁oli ▁ piele ssä . ▁äiti si ▁helmi ▁oli ▁haja mielinen ▁jo ▁silloin ▁kun ▁oli t ▁lapsi ▁ja ▁isoisä si ▁hugo ▁katsoi ▁häntä ▁enemmän ▁perä ä si . ▁pari ▁vuotta ▁sinun ▁jälke esi ▁syntyi ▁edel wald tien ▁vampyyri suvun ▁veri peri jä ▁kla ri ssa ▁ja ▁olet ▁aina ▁tiennyt ▁oleva si ▁hänen ▁rinnalla an ▁toisen ▁luokan ▁kansalainen . ▁kla ri ssa ▁itse ▁kohteli ▁sinua ▁kuin ▁verta istaan ▁ja ▁useammin ▁se ▁ärsy tti ▁kuin ▁miellytti ▁sinua . ▁eli t ▁kuitenkin ▁verrattain ▁suoja ttua ▁elämää ▁ja ▁koska ▁sinulla ▁ei ▁juuri ▁muita ▁leikki toverei ta ▁ollut ▁o tit ▁vastaan ▁kla ri ssa n ▁seuran . ▁kun ▁kla ri ssa ▁oli ▁ihan ▁pieni ▁tyk käsi t ▁kiusa ta ▁häntä ▁ja ▁heti ▁kun ▁hän ▁alkoi ▁itkeä ▁sili tit ▁häntä ▁ja ▁oli t ▁lohdutta vina si , ▁rakasti t ▁sitä ▁kun ▁muut ▁aina ▁silloin ▁kii t telivät ▁sinua . ▁kla ri ssa n ▁kasvaessa ▁huomasi t ▁kuitenkin , ▁että ▁tyttö ▁oli ▁ihan ▁mukava ▁ja ▁usein ▁kla ri ssa ▁suostui ▁leikki mään ▁lei kkejä ▁joita ▁halusi t , ▁joten ▁aloit ▁toden ▁te olla ▁viihty ä ▁hänen ▁kanssaan . ▁jopa ▁siinä ▁määrin , ▁että ▁aloit ▁esiintyä ▁kla ri ssa n ▁seurassa ▁ystävällisesti ▁ja ▁huomaava isesti ▁ja ▁jossain ▁vaiheessa ▁huomasi t , ▁että ▁ystävyyte nne ▁oli ▁kasvanut ▁siihen ▁ pisteeseen , ▁ettet ▁enää ▁edes ▁välittänyt ▁määrä illä ▁kla ri ssa n ▁tekemi siä .,▁xx bo s ▁pyhä mäen ▁lukio n ▁historian opettaja , ▁nikolai ▁on ▁reilu ▁ja ▁mukava ▁mies ▁ja ▁hyvä ▁opettaja . ▁neli kymppi seksi ▁hän ▁näyttää ▁aivan ▁käsittämättömä n ▁nuor elta ▁ja ▁sinulla ▁onkin ▁omat ▁epäily ksesi ▁siitä , ▁että ▁kyseessä ▁olisi ▁vampyyri .,▁xx bo s ▁eero ▁ja ▁kla ri ssa ▁ryhtyivät ▁suunnittelema an ▁häitä än ▁ja ▁äiti ▁ja ▁amanda kin ▁se ko sivat ▁onnesta . ▁siinä ▁heidän ▁puu hia an ▁sivu sta ▁seura ille ssani ▁tajusin , ▁että ▁jos ▁todella ▁tahtoisin ▁lauma n johtajaksi , ▁minulla ▁täytyisi ▁olla ▁vaimo ▁ja ▁lapsia . ▁ja ▁minä ▁ihan ▁todellakin ▁haluan ▁lauma n johtajaksi , ▁minun ▁nähdä kseni ▁olen ▁tällä ▁hetkellä ▁sitä ▁paitsi ▁ainoa ▁järkevä ▁vaihtoehto ▁siihen ▁tehtävää n . ▁en ▁tietenkään ▁heti , ▁mutta ▁tulevaisuudessa , ▁saisin ▁varmasti ▁tai ston ▁ymmärtämään ▁asian .\n",
       "y: LMLabelList\n",
       ",,,,\n",
       "Path: .;\n",
       "\n",
       "Valid: LabelList (454 items)\n",
       "x: LMTextList\n",
       "▁xx bo s ▁lei ja ili t ▁pää ▁pilvi ssä ▁vielä ▁seuraavana ▁kevään ä kin , ▁etkä ▁huomannut ▁kuinka ▁myrsky pilvi ä ▁hitaasti ▁kasa utui ▁taivaan ▁rantaan . ▁jos ▁et ▁olisi ▁ollut ▁niin ▁ silmi ttömän ▁rakastunut ▁olisi t ▁ehkä ▁huomannut , ▁että ▁toivo ▁alkoi ▁hiljalleen ▁ottaa ▁etäis yyttä ▁sinuun , ▁ja ▁nähnyt ▁kuinka ▁jokin ▁selvästi ▁painoi ▁hänen ▁mieltään . ▁et ▁kuitenkaan ▁koskaan ▁saanut ▁selvi tettyä ▁asioita , ▁sillä ▁kun ▁victor ▁sai ▁tietää ▁suhteesta nne , ▁hän ▁oli ▁suunni ltaan ▁raivo sta ▁ja ▁yhteen ▁puristu neiden ▁hampai de nsa ▁välistä ▁hän ▁ilmoitti ▁jää tävä llä ▁äänellä , ▁että ▁lähtisi t ▁saman tien ▁takaisin ▁eurooppaan ▁ja ▁pala isi t ▁vasta ▁sitten ▁kun ▁olisi t ▁oppinut ▁miten ▁käy ttä ydy tään , ▁tiesi t ▁kyllä ▁victor in ▁historiasta ▁ihmis su sien ▁kanssa , ▁siitä , ▁että ▁hänen ▁isänsä ▁ja ▁veljensä ▁olivat ▁saaneet ▁surmansa ▁susi en ▁käsissä ▁ja ▁tavallaan ▁sinua ▁hävetti ▁se , ▁että ▁oli t ▁tahtomatta si ▁loukannut ▁victoria . ▁nikolai lle ▁et ▁sitten ▁hi isku isi ▁sanalla kaan ▁näistä ▁hölmö ily istä si . ▁ehdi t ▁sanoa ▁toivo lle ▁jäähyväiset , ▁mies ▁oli ▁kuitenkin ▁tuolloin ▁niin ▁omissa ▁ajatuksi ssaan , ▁että ▁vaikka ▁olisi t ▁tahtonut ▁syleil lä ▁häntä ▁vielä ▁viimeisen ▁kerran ▁et ▁to hti nut ▁sitä ▁tehdä , ▁oli tte ▁koulussa ▁ja ▁toivo ▁vaikutti ▁raivostu ttavan ▁etäis eltä , ▁joten ▁tyydy it ▁vain ▁tote amaan , ▁että ▁joutuisi t ▁lähtemään ▁eurooppaan ▁etkä ▁tiennyt ▁pala isi tko .,▁xx bo s ▁je len an ▁ lähdö stä ▁oli ▁kulunut ▁vain ▁muutama ▁kuukausi ▁kun ▁sa ttu muste n ▁kautta ▁pää dy it ▁viettämään ▁iltaa ▁opettaja si ▁liisa n ▁kanssa,▁xx bo s ▁in kaa ▁oli ▁ammuttu ▁useita ▁kertoja , ▁ja ▁selvisi ▁että ▁häntä ▁oli ▁ammuttu ▁hyvin ▁erikois illa ▁luo de illa . ▁valtava ▁määrä ▁ukon hattu a ▁oli ▁levinnyt ▁luo de ista ▁hänen ▁veren kier toon sa , ▁ja ▁hän ▁näytti ▁niin ▁hirveä ltä ▁etten ▁halunnut ▁katsoa . ▁myrkky ▁oli ▁tehnyt ▁hänen ▁iho nsa ▁epätasa isen ▁sini harmaa ksi , ▁veri suon et ▁näkyivät ▁kasvoilla ▁musti na ▁ja ▁myöhemmin ▁minulle ▁kerrottiin ▁että ▁ampuma haa vo jen ▁ympäristö ▁oli ▁mus tunut ▁ja ▁alkanut ▁mä dä n tyä . ▁in kan ▁oli ▁tappanut ▁metsästäjä , ▁joku ▁joka ▁tiesi ▁aivan ▁liian ▁paljon ▁ihmis su sista,▁xx bo s ▁ala - asteen ▁alkaessa ▁aloit it ▁myös ▁noita opin to si ▁isoisä si ▁johdolla . ▁ensimmäinen ▁ja ▁tärkein ▁asia , ▁joka ▁sinulle ▁ope tettiin ▁oli , ▁että ▁tulisi t ▁aina ▁olemaan ▁edel wald tien ▁omaisuutta . ▁no ida t ▁olivat ▁vuosisatoja ▁sitten ▁menettä neet ▁vapaute nsa ▁ja ▁elämän ne ▁kuuluivat ▁nyt ▁va m pyy reille . ▁pieni kin ▁kapinoi nnin ▁merkki ▁saattaisi ▁tarkoittaa ▁kuolemaa , ▁sillä ▁no idi sta ▁oli ▁historiassa ▁ollut ▁paljon ▁harmi a ▁va m pyy reille ▁ja ▁teitä ▁pidettiin ▁tiukasti ▁silmällä . ▁mitä ▁enemmän ▁velvollisuuksi sta nne ▁kuuli t , ▁sitä ▁selvemmin ▁opi t ▁näkemään ▁äiti si ▁ja ▁isoisä si ▁mo ti ive ja ▁heidän ▁toimintansa ▁takana . ▁äiti si , ▁jota ▁oli t ▁aina ▁pitänyt ▁hiukan ▁yksinkertaise na ▁ja ▁hö per ön ä , ▁oli ▁vain ▁alistu nut ▁siihen ▁maailmaan , ▁johon ▁hän ▁oli ▁syntynyt . ▁hän ▁teki ▁kaiken ▁mitä ▁victor ▁pyysi ▁kuin ▁hyvin ▁koulu tettu ▁koira ▁ja ▁aikanaan ▁ymmärsi t ▁myös , ▁että ▁hän ▁oli ▁epätoivoise n ▁rakastunut ▁isäntä änsä , ▁jolle ▁äiti si ▁ei ▁kuitenkaan ▁koskaan ▁olisi ▁muuta ▁kuin ▁ väline ▁tavoittei den ▁saavuttamise en . ▁isoisä ä si ▁sen ▁sijaan ▁nuorena ▁suorastaan ▁ihaili t . ▁kun ▁hiukan ▁kasvoi t ▁usko utui ▁hugo ▁sinulle ▁siitä ▁kuinka ▁voisi t ▁säilyttää ▁edes ▁pala sen ▁itse stä si ▁” vaikka ▁olet kin ▁heidän ▁valta nsa ▁alla , ▁se ▁ei ▁tarkoi ta ▁alistu mista . ▁ope ttele ▁näyttele mään ▁hyvin . ▁opi ▁esittämään ▁toive esi ▁niin , ▁että ▁he ▁kuvittele vat ▁sen ▁olevan ▁heidän ▁ajatuksensa . ▁äläkä ▁rakastu , ▁älä ▁tee ▁itse stä si ▁heikko a ▁kuten ▁äiti si . ” ▁vuosia ▁uskoi t ▁näihin ▁sanoi hin . ▁lopulta ▁kuitenkin ▁ymmärsi t , ▁että ▁isoisä si ▁oli ▁yhtä ▁mani pul oitu ▁tottele maan ▁kuin ▁äiti si , ▁vain ▁eri ▁keinoja ▁käyttäen . ▁kun ▁vuosia ▁myöhemmin ▁lämmit it ▁victor in ▁vuodet ta ▁opi t ▁yhtä ▁ja ▁toista . ▁isoäiti si ▁mirja mi ▁oli ▁kuollut ▁helmi n ▁ollessa ▁pikku tyttö , ▁victor ▁oli ▁kertonut ▁hugo lle ▁ihmis su sien ▁tappa neen ▁hänen ▁vaimonsa ▁ja ▁saanut ▁hugo n ▁suunni ltaan ▁suru sta . ▁kun ▁opi t ▁tuntemaan ▁victoria ▁ja ▁ennen ▁kaikkea ▁kun ▁opi t ▁kla ri ssa n ▁kautta ▁tuntemaan ▁seudun ▁ihmis su sia ▁aloit ▁kuitenkin ▁epäillä , ▁että ▁victor ▁itse ▁olisi ▁hoi d ellut ▁likaise n ▁työn ▁ja ▁kirkkai n ▁silmin ▁va lehd ellut ▁hugo lle . ▁ymmärsi t , ▁että ▁isoisä si ▁oli ▁yhtä ▁lailla ▁tullut ▁vampyyri en ▁mani pu loi ma ksi ▁kuin ▁äiti si kin ▁ja ▁että ▁syy ▁hänen kin ▁heikko uteen sa ▁oli ▁ollut ▁rakkaus ▁vaimo aan ▁kohtaan . ▁vannoi t ▁jo ▁tuolloin , ▁ettet ▁ikinä ▁itse ▁rakastu isi .,▁xx bo s ▁näitä ▁kata stro fe ja ▁selvi tellessä ▁aika ▁jotenkin ▁hu jahti , ▁eikä ▁lumi n ▁syntymäpäivä än ▁ole ▁aikaa ▁enää ▁kuin ▁vajaa ▁viikko ! ▁nyt ▁kun ▁avioliitto asia t ▁ovat ▁nousseet ▁ajankohtais eksi , ▁olen ▁alkanut ▁taju ta ▁etten ▁todella ▁halua ▁omia ▁lapsia . ▁en ▁halua ▁siirtää ▁tätä ▁kirous ta ▁eteenpäin , ▁sillä ▁kirous ▁tämä ▁on , ▁su de ksi ▁synty minen . ▁olisi ▁kyllä ▁hirmuise n ▁ihanaa ▁olla ▁isä , ▁sitä ▁en ▁kie llä , ▁mutta ▁en ▁iki päivänä ▁halua ▁ottaa ▁sitä ▁riski ä , ▁että ▁omat ▁lapseni ▁tappa isivat ▁sivu llisia ▁kuten ▁minä ▁ja ▁salme kin ▁melkein . ▁vihaa n ▁olla ▁ihmis su si , ▁vihaa n ▁sitä ▁mitä ▁se ▁teki ▁minulle ▁ja ▁perhe elle ni . ▁jos ▁voisin , ▁haluaisin ▁vain ▁saada ▁koko ▁suden ▁kiroukse n ▁pois ▁ja ▁elää ▁tavallista ▁elämää .\n",
       "y: LMLabelList\n",
       ",,,,\n",
       "Path: .;\n",
       "\n",
       "Test: None, model=SequentialRNN(\n",
       "  (0): AWD_LSTM(\n",
       "    (encoder): Embedding(24000, 400, padding_idx=1)\n",
       "    (encoder_dp): EmbeddingDropout(\n",
       "      (emb): Embedding(24000, 400, padding_idx=1)\n",
       "    )\n",
       "    (rnns): ModuleList(\n",
       "      (0): WeightDropout(\n",
       "        (module): LSTM(400, 1150, batch_first=True)\n",
       "      )\n",
       "      (1): WeightDropout(\n",
       "        (module): LSTM(1150, 1150, batch_first=True)\n",
       "      )\n",
       "      (2): WeightDropout(\n",
       "        (module): LSTM(1150, 400, batch_first=True)\n",
       "      )\n",
       "    )\n",
       "    (input_dp): RNNDropout()\n",
       "    (hidden_dps): ModuleList(\n",
       "      (0): RNNDropout()\n",
       "      (1): RNNDropout()\n",
       "      (2): RNNDropout()\n",
       "    )\n",
       "  )\n",
       "  (1): LinearDecoder(\n",
       "    (decoder): Linear(in_features=400, out_features=24000, bias=True)\n",
       "    (output_dp): RNNDropout()\n",
       "  )\n",
       "), opt_func=functools.partial(<class 'torch.optim.adam.Adam'>, betas=(0.9, 0.99)), loss_func=FlattenedLoss of CrossEntropyLoss(), metrics=[<function accuracy at 0x7fdb87db2bf8>], true_wd=True, bn_wd=True, wd=0.01, train_bn=True, path=PosixPath('.'), model_dir='models', callback_fns=[functools.partial(<class 'fastai.basic_train.Recorder'>, add_time=True)], callbacks=[RNNTrainer\n",
       "learn: LanguageLearner(data=TextLMDataBunch;\n",
       "\n",
       "Train: LabelList (1815 items)\n",
       "x: LMTextList\n",
       "▁xx bo s ▁tarmo han ▁olisi ▁luonteeltaan ▁aivan ▁täydellinen ▁lauma n johtajaksi . ▁hän ▁vain ▁oli ▁ur po ▁ja ▁halusi ▁mennä ▁naimisiin ▁soi len ▁kanssa , ▁jolloin ▁hän ▁luopui ▁ mahdollisuude staan ▁tulla ▁koskaan ▁alfa ksi . ▁minä ... ▁en ▁varmaankaan ▁kenenkään ▁mielestä ▁olisi ▁sopiva ▁lauma n johtaja . ▁toivottavasti ▁ainakaan , ▁sillä ▁itse ▁en ▁koe ▁sellaiseksi ▁sopiva ni . ▁äiti ▁on ▁koi ttanut ▁sanoa ▁että ▁minusta ▁tulisi ▁oikein ▁hyvä ▁ja ▁lempeä ▁johtaja ▁mutta ▁en ▁oikein ▁tiedä ▁uskoo ko ▁hän ▁sitä ▁itsekään .,▁xx bo s ▁tutustui t ▁rai sa an ▁pahimma lla ▁mahdollise lla ▁hetkellä . ▁katarina ▁oli ▁juuri ▁lähtenyt ▁ja ▁oli t ▁tullut ▁isäsi ▁mukana ▁pyhä vuorelle . ▁millä ▁tahansa ▁muulla ▁hetkellä ▁olisi t ▁varmasti ▁ottanut ▁vastaan ▁sen ▁lämmön , ▁jota ▁nainen ▁sinulle ▁tarjosi , ▁mutta ▁juuri ▁silloin ▁oli t ▁vain ▁liian ▁rikki nä inen . ▁olet ▁usein ▁ajatuksi ssa si ▁palannut ▁rai sa an ▁ja ▁siihen ▁mitä ▁olisi ▁voinut ▁olla , ▁jos ▁olisi t ▁uskaltanut ▁avata ▁hänelle ▁sydäme si . ▁rai sa ▁saapui ▁pyhä vuorelle ▁muutama ▁kuukausi ▁sitten ▁ja ▁olette ▁tuskin ▁vaihta neet ▁enempää ▁kuin ▁muutaman ▁sanan . ▁olet ▁kuitenkin ▁löytänyt ▁itse si ▁muutaman ▁kerran ▁muistele masta ▁sitä ▁lyhyt tä ▁aikaa , ▁jonka ▁vie t itte ▁yhdessä ▁silloin ▁vuosia ▁sitten , ▁onko ▁sinulle ▁vielä ▁joitakin ▁tunteita ▁jäljellä ? ▁vai ▁tak er ru tko ▁vain ▁kaikkeen ▁minkä ▁olet ▁joskus ▁menettänyt ?,▁xx bo s ▁ei ▁elämä si ▁edel wald teilla ▁koskaan ▁oikeasti ▁kurja a ▁ollut , ▁mutta ▁mielessä si ▁paisu tteli t ▁pieniä kin ▁asioita ▁ja ▁jo ▁lapsesta ▁saakka ▁olet ▁aina ▁etsi nyt ▁jotakin ▁mitä ▁syyttää ▁kaikesta ▁mikä ▁elämässä si ▁oli ▁ piele ssä . ▁äiti si ▁helmi ▁oli ▁haja mielinen ▁jo ▁silloin ▁kun ▁oli t ▁lapsi ▁ja ▁isoisä si ▁hugo ▁katsoi ▁häntä ▁enemmän ▁perä ä si . ▁pari ▁vuotta ▁sinun ▁jälke esi ▁syntyi ▁edel wald tien ▁vampyyri suvun ▁veri peri jä ▁kla ri ssa ▁ja ▁olet ▁aina ▁tiennyt ▁oleva si ▁hänen ▁rinnalla an ▁toisen ▁luokan ▁kansalainen . ▁kla ri ssa ▁itse ▁kohteli ▁sinua ▁kuin ▁verta istaan ▁ja ▁useammin ▁se ▁ärsy tti ▁kuin ▁miellytti ▁sinua . ▁eli t ▁kuitenkin ▁verrattain ▁suoja ttua ▁elämää ▁ja ▁koska ▁sinulla ▁ei ▁juuri ▁muita ▁leikki toverei ta ▁ollut ▁o tit ▁vastaan ▁kla ri ssa n ▁seuran . ▁kun ▁kla ri ssa ▁oli ▁ihan ▁pieni ▁tyk käsi t ▁kiusa ta ▁häntä ▁ja ▁heti ▁kun ▁hän ▁alkoi ▁itkeä ▁sili tit ▁häntä ▁ja ▁oli t ▁lohdutta vina si , ▁rakasti t ▁sitä ▁kun ▁muut ▁aina ▁silloin ▁kii t telivät ▁sinua . ▁kla ri ssa n ▁kasvaessa ▁huomasi t ▁kuitenkin , ▁että ▁tyttö ▁oli ▁ihan ▁mukava ▁ja ▁usein ▁kla ri ssa ▁suostui ▁leikki mään ▁lei kkejä ▁joita ▁halusi t , ▁joten ▁aloit ▁toden ▁te olla ▁viihty ä ▁hänen ▁kanssaan . ▁jopa ▁siinä ▁määrin , ▁että ▁aloit ▁esiintyä ▁kla ri ssa n ▁seurassa ▁ystävällisesti ▁ja ▁huomaava isesti ▁ja ▁jossain ▁vaiheessa ▁huomasi t , ▁että ▁ystävyyte nne ▁oli ▁kasvanut ▁siihen ▁ pisteeseen , ▁ettet ▁enää ▁edes ▁välittänyt ▁määrä illä ▁kla ri ssa n ▁tekemi siä .,▁xx bo s ▁pyhä mäen ▁lukio n ▁historian opettaja , ▁nikolai ▁on ▁reilu ▁ja ▁mukava ▁mies ▁ja ▁hyvä ▁opettaja . ▁neli kymppi seksi ▁hän ▁näyttää ▁aivan ▁käsittämättömä n ▁nuor elta ▁ja ▁sinulla ▁onkin ▁omat ▁epäily ksesi ▁siitä , ▁että ▁kyseessä ▁olisi ▁vampyyri .,▁xx bo s ▁eero ▁ja ▁kla ri ssa ▁ryhtyivät ▁suunnittelema an ▁häitä än ▁ja ▁äiti ▁ja ▁amanda kin ▁se ko sivat ▁onnesta . ▁siinä ▁heidän ▁puu hia an ▁sivu sta ▁seura ille ssani ▁tajusin , ▁että ▁jos ▁todella ▁tahtoisin ▁lauma n johtajaksi , ▁minulla ▁täytyisi ▁olla ▁vaimo ▁ja ▁lapsia . ▁ja ▁minä ▁ihan ▁todellakin ▁haluan ▁lauma n johtajaksi , ▁minun ▁nähdä kseni ▁olen ▁tällä ▁hetkellä ▁sitä ▁paitsi ▁ainoa ▁järkevä ▁vaihtoehto ▁siihen ▁tehtävää n . ▁en ▁tietenkään ▁heti , ▁mutta ▁tulevaisuudessa , ▁saisin ▁varmasti ▁tai ston ▁ymmärtämään ▁asian .\n",
       "y: LMLabelList\n",
       ",,,,\n",
       "Path: .;\n",
       "\n",
       "Valid: LabelList (454 items)\n",
       "x: LMTextList\n",
       "▁xx bo s ▁lei ja ili t ▁pää ▁pilvi ssä ▁vielä ▁seuraavana ▁kevään ä kin , ▁etkä ▁huomannut ▁kuinka ▁myrsky pilvi ä ▁hitaasti ▁kasa utui ▁taivaan ▁rantaan . ▁jos ▁et ▁olisi ▁ollut ▁niin ▁ silmi ttömän ▁rakastunut ▁olisi t ▁ehkä ▁huomannut , ▁että ▁toivo ▁alkoi ▁hiljalleen ▁ottaa ▁etäis yyttä ▁sinuun , ▁ja ▁nähnyt ▁kuinka ▁jokin ▁selvästi ▁painoi ▁hänen ▁mieltään . ▁et ▁kuitenkaan ▁koskaan ▁saanut ▁selvi tettyä ▁asioita , ▁sillä ▁kun ▁victor ▁sai ▁tietää ▁suhteesta nne , ▁hän ▁oli ▁suunni ltaan ▁raivo sta ▁ja ▁yhteen ▁puristu neiden ▁hampai de nsa ▁välistä ▁hän ▁ilmoitti ▁jää tävä llä ▁äänellä , ▁että ▁lähtisi t ▁saman tien ▁takaisin ▁eurooppaan ▁ja ▁pala isi t ▁vasta ▁sitten ▁kun ▁olisi t ▁oppinut ▁miten ▁käy ttä ydy tään , ▁tiesi t ▁kyllä ▁victor in ▁historiasta ▁ihmis su sien ▁kanssa , ▁siitä , ▁että ▁hänen ▁isänsä ▁ja ▁veljensä ▁olivat ▁saaneet ▁surmansa ▁susi en ▁käsissä ▁ja ▁tavallaan ▁sinua ▁hävetti ▁se , ▁että ▁oli t ▁tahtomatta si ▁loukannut ▁victoria . ▁nikolai lle ▁et ▁sitten ▁hi isku isi ▁sanalla kaan ▁näistä ▁hölmö ily istä si . ▁ehdi t ▁sanoa ▁toivo lle ▁jäähyväiset , ▁mies ▁oli ▁kuitenkin ▁tuolloin ▁niin ▁omissa ▁ajatuksi ssaan , ▁että ▁vaikka ▁olisi t ▁tahtonut ▁syleil lä ▁häntä ▁vielä ▁viimeisen ▁kerran ▁et ▁to hti nut ▁sitä ▁tehdä , ▁oli tte ▁koulussa ▁ja ▁toivo ▁vaikutti ▁raivostu ttavan ▁etäis eltä , ▁joten ▁tyydy it ▁vain ▁tote amaan , ▁että ▁joutuisi t ▁lähtemään ▁eurooppaan ▁etkä ▁tiennyt ▁pala isi tko .,▁xx bo s ▁je len an ▁ lähdö stä ▁oli ▁kulunut ▁vain ▁muutama ▁kuukausi ▁kun ▁sa ttu muste n ▁kautta ▁pää dy it ▁viettämään ▁iltaa ▁opettaja si ▁liisa n ▁kanssa,▁xx bo s ▁in kaa ▁oli ▁ammuttu ▁useita ▁kertoja , ▁ja ▁selvisi ▁että ▁häntä ▁oli ▁ammuttu ▁hyvin ▁erikois illa ▁luo de illa . ▁valtava ▁määrä ▁ukon hattu a ▁oli ▁levinnyt ▁luo de ista ▁hänen ▁veren kier toon sa , ▁ja ▁hän ▁näytti ▁niin ▁hirveä ltä ▁etten ▁halunnut ▁katsoa . ▁myrkky ▁oli ▁tehnyt ▁hänen ▁iho nsa ▁epätasa isen ▁sini harmaa ksi , ▁veri suon et ▁näkyivät ▁kasvoilla ▁musti na ▁ja ▁myöhemmin ▁minulle ▁kerrottiin ▁että ▁ampuma haa vo jen ▁ympäristö ▁oli ▁mus tunut ▁ja ▁alkanut ▁mä dä n tyä . ▁in kan ▁oli ▁tappanut ▁metsästäjä , ▁joku ▁joka ▁tiesi ▁aivan ▁liian ▁paljon ▁ihmis su sista,▁xx bo s ▁ala - asteen ▁alkaessa ▁aloit it ▁myös ▁noita opin to si ▁isoisä si ▁johdolla . ▁ensimmäinen ▁ja ▁tärkein ▁asia , ▁joka ▁sinulle ▁ope tettiin ▁oli , ▁että ▁tulisi t ▁aina ▁olemaan ▁edel wald tien ▁omaisuutta . ▁no ida t ▁olivat ▁vuosisatoja ▁sitten ▁menettä neet ▁vapaute nsa ▁ja ▁elämän ne ▁kuuluivat ▁nyt ▁va m pyy reille . ▁pieni kin ▁kapinoi nnin ▁merkki ▁saattaisi ▁tarkoittaa ▁kuolemaa , ▁sillä ▁no idi sta ▁oli ▁historiassa ▁ollut ▁paljon ▁harmi a ▁va m pyy reille ▁ja ▁teitä ▁pidettiin ▁tiukasti ▁silmällä . ▁mitä ▁enemmän ▁velvollisuuksi sta nne ▁kuuli t , ▁sitä ▁selvemmin ▁opi t ▁näkemään ▁äiti si ▁ja ▁isoisä si ▁mo ti ive ja ▁heidän ▁toimintansa ▁takana . ▁äiti si , ▁jota ▁oli t ▁aina ▁pitänyt ▁hiukan ▁yksinkertaise na ▁ja ▁hö per ön ä , ▁oli ▁vain ▁alistu nut ▁siihen ▁maailmaan , ▁johon ▁hän ▁oli ▁syntynyt . ▁hän ▁teki ▁kaiken ▁mitä ▁victor ▁pyysi ▁kuin ▁hyvin ▁koulu tettu ▁koira ▁ja ▁aikanaan ▁ymmärsi t ▁myös , ▁että ▁hän ▁oli ▁epätoivoise n ▁rakastunut ▁isäntä änsä , ▁jolle ▁äiti si ▁ei ▁kuitenkaan ▁koskaan ▁olisi ▁muuta ▁kuin ▁ väline ▁tavoittei den ▁saavuttamise en . ▁isoisä ä si ▁sen ▁sijaan ▁nuorena ▁suorastaan ▁ihaili t . ▁kun ▁hiukan ▁kasvoi t ▁usko utui ▁hugo ▁sinulle ▁siitä ▁kuinka ▁voisi t ▁säilyttää ▁edes ▁pala sen ▁itse stä si ▁” vaikka ▁olet kin ▁heidän ▁valta nsa ▁alla , ▁se ▁ei ▁tarkoi ta ▁alistu mista . ▁ope ttele ▁näyttele mään ▁hyvin . ▁opi ▁esittämään ▁toive esi ▁niin , ▁että ▁he ▁kuvittele vat ▁sen ▁olevan ▁heidän ▁ajatuksensa . ▁äläkä ▁rakastu , ▁älä ▁tee ▁itse stä si ▁heikko a ▁kuten ▁äiti si . ” ▁vuosia ▁uskoi t ▁näihin ▁sanoi hin . ▁lopulta ▁kuitenkin ▁ymmärsi t , ▁että ▁isoisä si ▁oli ▁yhtä ▁mani pul oitu ▁tottele maan ▁kuin ▁äiti si , ▁vain ▁eri ▁keinoja ▁käyttäen . ▁kun ▁vuosia ▁myöhemmin ▁lämmit it ▁victor in ▁vuodet ta ▁opi t ▁yhtä ▁ja ▁toista . ▁isoäiti si ▁mirja mi ▁oli ▁kuollut ▁helmi n ▁ollessa ▁pikku tyttö , ▁victor ▁oli ▁kertonut ▁hugo lle ▁ihmis su sien ▁tappa neen ▁hänen ▁vaimonsa ▁ja ▁saanut ▁hugo n ▁suunni ltaan ▁suru sta . ▁kun ▁opi t ▁tuntemaan ▁victoria ▁ja ▁ennen ▁kaikkea ▁kun ▁opi t ▁kla ri ssa n ▁kautta ▁tuntemaan ▁seudun ▁ihmis su sia ▁aloit ▁kuitenkin ▁epäillä , ▁että ▁victor ▁itse ▁olisi ▁hoi d ellut ▁likaise n ▁työn ▁ja ▁kirkkai n ▁silmin ▁va lehd ellut ▁hugo lle . ▁ymmärsi t , ▁että ▁isoisä si ▁oli ▁yhtä ▁lailla ▁tullut ▁vampyyri en ▁mani pu loi ma ksi ▁kuin ▁äiti si kin ▁ja ▁että ▁syy ▁hänen kin ▁heikko uteen sa ▁oli ▁ollut ▁rakkaus ▁vaimo aan ▁kohtaan . ▁vannoi t ▁jo ▁tuolloin , ▁ettet ▁ikinä ▁itse ▁rakastu isi .,▁xx bo s ▁näitä ▁kata stro fe ja ▁selvi tellessä ▁aika ▁jotenkin ▁hu jahti , ▁eikä ▁lumi n ▁syntymäpäivä än ▁ole ▁aikaa ▁enää ▁kuin ▁vajaa ▁viikko ! ▁nyt ▁kun ▁avioliitto asia t ▁ovat ▁nousseet ▁ajankohtais eksi , ▁olen ▁alkanut ▁taju ta ▁etten ▁todella ▁halua ▁omia ▁lapsia . ▁en ▁halua ▁siirtää ▁tätä ▁kirous ta ▁eteenpäin , ▁sillä ▁kirous ▁tämä ▁on , ▁su de ksi ▁synty minen . ▁olisi ▁kyllä ▁hirmuise n ▁ihanaa ▁olla ▁isä , ▁sitä ▁en ▁kie llä , ▁mutta ▁en ▁iki päivänä ▁halua ▁ottaa ▁sitä ▁riski ä , ▁että ▁omat ▁lapseni ▁tappa isivat ▁sivu llisia ▁kuten ▁minä ▁ja ▁salme kin ▁melkein . ▁vihaa n ▁olla ▁ihmis su si , ▁vihaa n ▁sitä ▁mitä ▁se ▁teki ▁minulle ▁ja ▁perhe elle ni . ▁jos ▁voisin , ▁haluaisin ▁vain ▁saada ▁koko ▁suden ▁kiroukse n ▁pois ▁ja ▁elää ▁tavallista ▁elämää .\n",
       "y: LMLabelList\n",
       ",,,,\n",
       "Path: .;\n",
       "\n",
       "Test: None, model=SequentialRNN(\n",
       "  (0): AWD_LSTM(\n",
       "    (encoder): Embedding(24000, 400, padding_idx=1)\n",
       "    (encoder_dp): EmbeddingDropout(\n",
       "      (emb): Embedding(24000, 400, padding_idx=1)\n",
       "    )\n",
       "    (rnns): ModuleList(\n",
       "      (0): WeightDropout(\n",
       "        (module): LSTM(400, 1150, batch_first=True)\n",
       "      )\n",
       "      (1): WeightDropout(\n",
       "        (module): LSTM(1150, 1150, batch_first=True)\n",
       "      )\n",
       "      (2): WeightDropout(\n",
       "        (module): LSTM(1150, 400, batch_first=True)\n",
       "      )\n",
       "    )\n",
       "    (input_dp): RNNDropout()\n",
       "    (hidden_dps): ModuleList(\n",
       "      (0): RNNDropout()\n",
       "      (1): RNNDropout()\n",
       "      (2): RNNDropout()\n",
       "    )\n",
       "  )\n",
       "  (1): LinearDecoder(\n",
       "    (decoder): Linear(in_features=400, out_features=24000, bias=True)\n",
       "    (output_dp): RNNDropout()\n",
       "  )\n",
       "), opt_func=functools.partial(<class 'torch.optim.adam.Adam'>, betas=(0.9, 0.99)), loss_func=FlattenedLoss of CrossEntropyLoss(), metrics=[<function accuracy at 0x7fdb87db2bf8>], true_wd=True, bn_wd=True, wd=0.01, train_bn=True, path=PosixPath('.'), model_dir='models', callback_fns=[functools.partial(<class 'fastai.basic_train.Recorder'>, add_time=True)], callbacks=[...], layer_groups=[Sequential(\n",
       "  (0): WeightDropout(\n",
       "    (module): LSTM(400, 1150, batch_first=True)\n",
       "  )\n",
       "  (1): RNNDropout()\n",
       "), Sequential(\n",
       "  (0): WeightDropout(\n",
       "    (module): LSTM(1150, 1150, batch_first=True)\n",
       "  )\n",
       "  (1): RNNDropout()\n",
       "), Sequential(\n",
       "  (0): WeightDropout(\n",
       "    (module): LSTM(1150, 400, batch_first=True)\n",
       "  )\n",
       "  (1): RNNDropout()\n",
       "), Sequential(\n",
       "  (0): Embedding(24000, 400, padding_idx=1)\n",
       "  (1): EmbeddingDropout(\n",
       "    (emb): Embedding(24000, 400, padding_idx=1)\n",
       "  )\n",
       "  (2): LinearDecoder(\n",
       "    (decoder): Linear(in_features=400, out_features=24000, bias=True)\n",
       "    (output_dp): RNNDropout()\n",
       "  )\n",
       ")], add_time=True)\n",
       "alpha: 2.0\n",
       "beta: 1.0], layer_groups=[Sequential(\n",
       "  (0): WeightDropout(\n",
       "    (module): LSTM(400, 1150, batch_first=True)\n",
       "  )\n",
       "  (1): RNNDropout()\n",
       "), Sequential(\n",
       "  (0): WeightDropout(\n",
       "    (module): LSTM(1150, 1150, batch_first=True)\n",
       "  )\n",
       "  (1): RNNDropout()\n",
       "), Sequential(\n",
       "  (0): WeightDropout(\n",
       "    (module): LSTM(1150, 400, batch_first=True)\n",
       "  )\n",
       "  (1): RNNDropout()\n",
       "), Sequential(\n",
       "  (0): Embedding(24000, 400, padding_idx=1)\n",
       "  (1): EmbeddingDropout(\n",
       "    (emb): Embedding(24000, 400, padding_idx=1)\n",
       "  )\n",
       "  (2): LinearDecoder(\n",
       "    (decoder): Linear(in_features=400, out_features=24000, bias=True)\n",
       "    (output_dp): RNNDropout()\n",
       "  )\n",
       ")], add_time=True)"
      ]
     },
     "execution_count": 18,
     "metadata": {},
     "output_type": "execute_result"
    }
   ],
   "source": [
    "learner.load(\"lstm2-pyhis\")"
   ]
  },
  {
   "cell_type": "code",
   "execution_count": 19,
   "metadata": {
    "scrolled": true
   },
   "outputs": [
    {
     "name": "stdout",
     "output_type": "stream",
     "text": [
      "olit jo nähnyt, että olit ollut niin paljon vanhempi, että ikäero oli kasvanut mielestäsi. et halunnut tehdä mitään, halusit olla vain usean vuoden ajan yhdessä, mutta ei se ollut helppoa, sillä nyt olit reilun vuoden ajan pysytellyt ilman omaa seuraasi. \n",
      " eeron isä oli nyt vielä toinen vampyyri. hän oli iiriksen isoisä ja noin 30-vuotias. iida oli kasvanut lukioaikanaan ja meri oli itkenyt vuosia sitten. hän oli viihtynyt pienessä kartanossa, ja hän oli niin nuori, että hän todella hyvin osasi vähän aikaa viettää aikaansa. hänellä ei ollut mitään yhteistä siitä mitä hän ei jaksanut tehdä, mutta hänellä oli edessään isoveli, jonka kanssa hän oli asunut. jos klarissa oli kuollut, ei hän ollut koko laumanikäinen, joten ehkä hän oli muuttanut takaisin pyhävuorelle. \n",
      " äitisi oli jättänyt laumansa, ja nyt saattoi hän tehdä töitä. \n",
      " tarmon veli ja iida ja inkan vanhemmat olivat karhu ja oon\n"
     ]
    }
   ],
   "source": [
    "print(learner.predict(\"olit\", 200, temperature=0.7).replace(\" \", \"\").replace(\"▁\", \" \").replace(\"xxbos\", \"\\n\"))"
   ]
  },
  {
   "cell_type": "code",
   "execution_count": null,
   "metadata": {},
   "outputs": [],
   "source": []
  }
 ],
 "metadata": {
  "kernelspec": {
   "display_name": "Python 3",
   "language": "python",
   "name": "python3"
  },
  "language_info": {
   "codemirror_mode": {
    "name": "ipython",
    "version": 3
   },
   "file_extension": ".py",
   "mimetype": "text/x-python",
   "name": "python",
   "nbconvert_exporter": "python",
   "pygments_lexer": "ipython3",
   "version": "3.6.8"
  }
 },
 "nbformat": 4,
 "nbformat_minor": 2
}
